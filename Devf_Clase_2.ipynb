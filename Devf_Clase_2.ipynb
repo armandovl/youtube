{
  "nbformat": 4,
  "nbformat_minor": 0,
  "metadata": {
    "colab": {
      "name": "Devf Clase 2",
      "private_outputs": true,
      "provenance": [],
      "authorship_tag": "ABX9TyMHWPJ+gQZ6zUB4Y/SWB4ex",
      "include_colab_link": true
    },
    "kernelspec": {
      "name": "python3",
      "display_name": "Python 3"
    },
    "language_info": {
      "name": "python"
    }
  },
  "cells": [
    {
      "cell_type": "markdown",
      "metadata": {
        "id": "view-in-github",
        "colab_type": "text"
      },
      "source": [
        "<a href=\"https://colab.research.google.com/github/armandovl/youtube/blob/main/Devf_Clase_2.ipynb\" target=\"_parent\"><img src=\"https://colab.research.google.com/assets/colab-badge.svg\" alt=\"Open In Colab\"/></a>"
      ]
    },
    {
      "cell_type": "markdown",
      "source": [
        "alt + 92 \\  <br>\n",
        "alt +91 +93 [] <br>\n",
        "alt +123  125 {} <br>"
      ],
      "metadata": {
        "id": "LWzQ6hBwy6dX"
      }
    },
    {
      "cell_type": "markdown",
      "source": [
        "## Recapitulando"
      ],
      "metadata": {
        "id": "0bhxnrX4w-o4"
      }
    },
    {
      "cell_type": "code",
      "execution_count": null,
      "metadata": {
        "id": "c8i4f_QXwNfJ"
      },
      "outputs": [],
      "source": [
        "a=2  \n",
        "b= 5.5\n",
        "c=\"hola amigos\"\n",
        "d=True\n",
        "\n",
        "type(a)"
      ]
    },
    {
      "cell_type": "code",
      "source": [
        "a=10\n",
        "b=3\n",
        "\n",
        "resultado_1=a+b  #suma\n",
        "resultado_2=a-b #resta\n",
        "resultado_3=a/b # división con decimales\n",
        "resultado_4=a//b # división entera\n",
        "resultado_5=a%b # residuo de la división\n",
        "resultado_6=a*b # multiplicacióm\n",
        "resultado_7=a**b # exponencial\n",
        "\n",
        "print(resultado_1) \n"
      ],
      "metadata": {
        "id": "8B2E4_s-yZXA"
      },
      "execution_count": null,
      "outputs": []
    },
    {
      "cell_type": "code",
      "source": [
        "print(f\"la suma de a y b es {resultado_1}: \\n la resta de a y b es {resultado_2}\" )"
      ],
      "metadata": {
        "id": "jTCTCT8wyjtu"
      },
      "execution_count": null,
      "outputs": []
    },
    {
      "cell_type": "code",
      "source": [
        "print(\"hola \" + \" adiós\" *3) #también se pueden aplicar a strings "
      ],
      "metadata": {
        "id": "8Clv0DoX2FTL"
      },
      "execution_count": null,
      "outputs": []
    },
    {
      "cell_type": "markdown",
      "source": [
        "## Booleanos"
      ],
      "metadata": {
        "id": "DJCciZBl2WqD"
      }
    },
    {
      "cell_type": "code",
      "source": [
        "a=10\n",
        "b=3\n",
        "\n",
        "print(a<b)\n",
        "print(a>b)"
      ],
      "metadata": {
        "id": "nmn_b1zb0JUI"
      },
      "execution_count": null,
      "outputs": []
    },
    {
      "cell_type": "code",
      "source": [
        "print(a==b)\n",
        "print(a!=b)\n",
        "print(a<b)\n",
        "print(a>b)\n",
        "print(a>=b)\n",
        "print(a<=b)\n"
      ],
      "metadata": {
        "id": "IhRHyjqd0ZIP"
      },
      "execution_count": null,
      "outputs": []
    },
    {
      "cell_type": "code",
      "source": [
        "#operadores de identidad\n",
        "c=3\n",
        "d=3.0\n",
        "\n",
        "print(c==d)"
      ],
      "metadata": {
        "id": "gEVh8E-y1Bb6"
      },
      "execution_count": null,
      "outputs": []
    },
    {
      "cell_type": "code",
      "source": [
        "print(c is d)"
      ],
      "metadata": {
        "id": "BcYa2UGE1MgC"
      },
      "execution_count": null,
      "outputs": []
    },
    {
      "cell_type": "code",
      "source": [
        ""
      ],
      "metadata": {
        "id": "t1vdGhyB1xDb"
      },
      "execution_count": null,
      "outputs": []
    },
    {
      "cell_type": "markdown",
      "source": [
        "## Cadenero de Antro Virtual"
      ],
      "metadata": {
        "id": "vNgH8O-I1xgZ"
      }
    },
    {
      "cell_type": "code",
      "source": [
        "'''\n",
        "valor1=float(input(\"Ingrese primer valor:\"))\n",
        "valor2=int(input(\"Ingrese segundo valor:\"))\n",
        "suma=valor1+valor2\n",
        "print(f\"La suma de {valor1} y {valor2} es {suma}\")\n",
        "'''"
      ],
      "metadata": {
        "id": "A8ZNnmWF10Yr"
      },
      "execution_count": null,
      "outputs": []
    },
    {
      "cell_type": "code",
      "source": [
        "edad=12\n",
        "\n",
        "if edad>=18:\n",
        "  print(\"pasa\")"
      ],
      "metadata": {
        "id": "oUI8q4Tg2hrF"
      },
      "execution_count": null,
      "outputs": []
    },
    {
      "cell_type": "code",
      "source": [
        "edad=12\n",
        "\n",
        "if edad>=18:\n",
        "  print(\"pasa\")\n",
        "else:\n",
        "  print(\"no pasas bro\")"
      ],
      "metadata": {
        "id": "Ly9GY4L02yj6"
      },
      "execution_count": null,
      "outputs": []
    },
    {
      "cell_type": "code",
      "source": [
        "#traigan para el boleto\n",
        "edad=78\n",
        "money=50\n",
        "\n",
        "if edad>=18 and money>=100:\n",
        "  print(\"pasa\")\n",
        "else:\n",
        "  print(\"no pasas bro\")"
      ],
      "metadata": {
        "id": "qOUwkNlS24Js"
      },
      "execution_count": null,
      "outputs": []
    },
    {
      "cell_type": "code",
      "source": [
        "#chicas gratis\n",
        "edad=78\n",
        "money=50\n",
        "genero=\"mujer\"\n",
        "\n",
        "if edad>=18 and (money>=100 or genero==\"mujer\"):\n",
        "  print(\"pasa\")\n",
        "else:\n",
        "  print(\"no pasas bro\")"
      ],
      "metadata": {
        "id": "EjzpktVc27ry"
      },
      "execution_count": null,
      "outputs": []
    },
    {
      "cell_type": "code",
      "source": [
        "#conoces charlye\n",
        "edad=18\n",
        "money=100\n",
        "genero=\"hombre\"\n",
        "conoce=\"SI\"\n",
        "\n",
        "if edad>=18 and (money>=100 or genero==\"mujer\"):\n",
        "  print(\"pasa\")\n",
        "elif conoce==\"SI\":\n",
        "  print(\"pasa cuando llegue charlye\")\n",
        "else:\n",
        "  print(\"no pasas bro\")"
      ],
      "metadata": {
        "id": "Th6e83Ly3AVi"
      },
      "execution_count": null,
      "outputs": []
    },
    {
      "cell_type": "code",
      "source": [
        "#tarjeta de socio\n",
        "edad=22\n",
        "money=50\n",
        "genero=\"mujer\" \n",
        "conoce=\"SI\"\n",
        "card=\"SI\"\n",
        "\n",
        "if card==\"NO\":\n",
        "\n",
        "  if edad>=18 and (money>=100 or genero==\"mujer\"):\n",
        "    print(\"pasa\")\n",
        "  elif conoce==\"SI\":\n",
        "    print(\"pasa cuando llegue charlye\")\n",
        "  else:\n",
        "    print(\"no pasas bro\")\n",
        "\n",
        "else:\n",
        "  print(\"pasa a la zona VIP\")\n",
        "\n",
        "#bool(input(\"eres socio , escribe SI/NO\"))"
      ],
      "metadata": {
        "id": "ZGq9dkIP3EjU"
      },
      "execution_count": null,
      "outputs": []
    },
    {
      "cell_type": "markdown",
      "source": [
        "## Venta de playeras"
      ],
      "metadata": {
        "id": "_dtBYs4g3Lvk"
      }
    },
    {
      "cell_type": "code",
      "source": [
        "#situacion 1\n",
        "'''\n",
        "Hay promoción !\n",
        "Si es del club “chivas”, descuento del 10%\n",
        "si es del club “america”  descuento del 20%\n",
        "si es de otro club no hay descuento\n",
        "'''\n",
        "club='chivas'\n",
        "precio=100\n",
        "\n",
        "if club =='chivas':\n",
        "  print(\"el precio final es\", precio-10)\n",
        "elif club =='america':\n",
        "    print(\"el precio final es \",precio -20)  \n",
        "else:\n",
        "    print(precio)"
      ],
      "metadata": {
        "id": "UGHW7gEx3JUq"
      },
      "execution_count": null,
      "outputs": []
    },
    {
      "cell_type": "code",
      "source": [
        "#situación 2\n",
        "#precio extra si el cliente son mujeres se descuentan 5 pesos más,\n",
        "#solo aplicable al club america\n",
        "\n",
        "club='america'\n",
        "precio=100\n",
        "cliente=\"mujer\"\n",
        "\n",
        "if club =='chivas':\n",
        "  print(\"el precio final es\", precio-10)\n",
        "elif club =='america':\n",
        "  if cliente==\"mujer\":\n",
        "    print(\"el precio final es \",precio -25)\n",
        "  else:\n",
        "    print(\"el precio final es \",precio -20)\n",
        "else:\n",
        "    print(precio)\n"
      ],
      "metadata": {
        "id": "cr5_LPPJ5N6V"
      },
      "execution_count": null,
      "outputs": []
    },
    {
      "cell_type": "code",
      "source": [
        "#situacion 3\n",
        "#La promoción ahora solo va aplicar personas de edad menos de 12 años\n",
        "club='america'\n",
        "precio=100\n",
        "cliente=\"mujer\"\n",
        "edad=20\n",
        "\n",
        "if club =='chivas' and edad<=12:\n",
        "  print(\"el precio final es\", precio-10)\n",
        "elif club =='america' and edad<=12 :\n",
        "  if cliente==\"mujer\":\n",
        "    print(\"el precio final es \",precio -25)\n",
        "  else:\n",
        "    print(\"el precio final es \",precio -20)\n",
        "else:\n",
        "    print(precio)"
      ],
      "metadata": {
        "id": "PTMh4wt-6EVg"
      },
      "execution_count": null,
      "outputs": []
    },
    {
      "cell_type": "code",
      "source": [
        "#situacion 4\n",
        "#La promoción ahora solo va aplicar personas de edad menos de 12 años o con capacidades diferentes\n",
        "\n",
        "\n",
        "club='america'\n",
        "precio=100\n",
        "cliente=\"mujer\"\n",
        "edad=20\n",
        "cd=True\n",
        "\n",
        "if club =='chivas' and (edad<=12 or cd==True):\n",
        "  print(\"el precio final es\", precio-10)\n",
        "elif club =='america' and (edad<=12 or cd==True) :\n",
        "  if cliente==\"mujer\":\n",
        "    print(\"el precio final es \",precio -25)\n",
        "  else:\n",
        "    print(\"el precio final es \",precio -20)\n",
        "else:\n",
        "    print(precio)"
      ],
      "metadata": {
        "id": "jgjOTxxm6drA"
      },
      "execution_count": null,
      "outputs": []
    },
    {
      "cell_type": "markdown",
      "source": [
        "## Ciclos"
      ],
      "metadata": {
        "id": "gCPc3Aff7ORh"
      }
    },
    {
      "cell_type": "code",
      "source": [
        "for i in range(10):\n",
        "  print(i)"
      ],
      "metadata": {
        "id": "O-EqPTXJ8ljm"
      },
      "execution_count": null,
      "outputs": []
    },
    {
      "cell_type": "code",
      "source": [
        "for i in range(2,10):\n",
        "  print(i)"
      ],
      "metadata": {
        "id": "auyaf81I8yfi"
      },
      "execution_count": null,
      "outputs": []
    },
    {
      "cell_type": "code",
      "source": [
        "for i in range(2,10,2):\n",
        "  print(i)"
      ],
      "metadata": {
        "id": "j5tnffDl83hT"
      },
      "execution_count": null,
      "outputs": []
    },
    {
      "cell_type": "code",
      "source": [
        "#Aquellas variables que forman parte de un mismo elemento\n",
        "\n",
        "lista= [\"valor_1\",\"valor_2\",\"valor_3\",\"valor_4\"]\n",
        "\n",
        "for k in lista:\n",
        "\tprint(k)\n",
        "\n",
        "\n"
      ],
      "metadata": {
        "id": "AFpcn2Is9Cuy"
      },
      "execution_count": null,
      "outputs": []
    },
    {
      "cell_type": "code",
      "source": [
        "# Muestra 0,1,2,3,4\n",
        "count = 0\n",
        "while count < 5:\n",
        "    print (count)\n",
        "    count += 1 # count = count + 1\n"
      ],
      "metadata": {
        "id": "VszufsKO9vV9"
      },
      "execution_count": null,
      "outputs": []
    },
    {
      "cell_type": "code",
      "source": [
        "count = 0\n",
        "while True:\n",
        "    print (count)\n",
        "    count += 1\n",
        "    if count >= 5:\n",
        "        break"
      ],
      "metadata": {
        "id": "uddc3iBQ-BPE"
      },
      "execution_count": null,
      "outputs": []
    },
    {
      "cell_type": "code",
      "source": [
        "for x in range(10):\n",
        "    # Chequéa si x es numero par\n",
        "    if x % 2 == 0:\n",
        "        continue\n",
        "    print (x)\n"
      ],
      "metadata": {
        "id": "iYT2kk2f-J38"
      },
      "execution_count": null,
      "outputs": []
    },
    {
      "cell_type": "markdown",
      "source": [
        "operadores acumulativos"
      ],
      "metadata": {
        "id": "zXESdczyAqj9"
      }
    },
    {
      "cell_type": "code",
      "source": [
        "# que se valla de 10 en 10 hasta llegar al 100\n",
        "count = 0\n",
        "while count < 100:\n",
        "    print (count)\n",
        "    count += 10 #"
      ],
      "metadata": {
        "id": "LEf4ZeyM-bB9"
      },
      "execution_count": null,
      "outputs": []
    },
    {
      "cell_type": "code",
      "source": [
        "# que multiplicando de 3 en tres a llegar al 100\n",
        "count = 1 #empezamos en 1 para no crear un bucle infinito\n",
        "while count < 100:\n",
        "    print (count)\n",
        "    count *= 3 #"
      ],
      "metadata": {
        "id": "-YxMTIbX-4xt"
      },
      "execution_count": null,
      "outputs": []
    },
    {
      "cell_type": "markdown",
      "source": [
        "ejercicios"
      ],
      "metadata": {
        "id": "FuBfo2YaAuB1"
      }
    },
    {
      "cell_type": "code",
      "source": [
        "'''\n",
        "Pedir  al usuario un número “n” y  un nombre\n",
        "Imprimir n veces su nombre\n",
        "\n",
        "'''\n",
        "\n",
        "nombre=str(input(\"pon tu nombre\"))\n",
        "veces=int(input(\"veces que quieres que se imprima\"))\n",
        "\n",
        "for i in range(veces):\n",
        "  print(nombre)\n",
        "\n",
        "#se imprime 10, porque aunque no cuente el numero diez, como el iterador empieza en 0, se compensa"
      ],
      "metadata": {
        "id": "yuiSPmkM_12n"
      },
      "execution_count": null,
      "outputs": []
    },
    {
      "cell_type": "code",
      "source": [
        "'''\n",
        "Imprimir la tabla del 97 del 10 al 20\n",
        "'''\n",
        "for i in range(10,21):\n",
        "  print(\"97 X \",i,\" = \",i*97)\n"
      ],
      "metadata": {
        "id": "CNjsjVUcE6q_"
      },
      "execution_count": null,
      "outputs": []
    },
    {
      "cell_type": "code",
      "source": [
        "'''\n",
        "Imprimir años bisiestos de 2022 al 2050  *2024 es año bisiesto\n",
        "'''\n",
        "\n",
        "\n",
        "count = 2024 #empezamos en 2024\n",
        "while count <= 2050:\n",
        "    print (count, \"es año bisiesto\")\n",
        "    count += 4 #\n"
      ],
      "metadata": {
        "id": "5hgJDEQjER3j"
      },
      "execution_count": null,
      "outputs": []
    },
    {
      "cell_type": "code",
      "source": [
        "'''\n",
        "Acaba de nacer un cachorrito 2022\n",
        "Imprime tu edad, la edad del perrito tendrá (humano) , año de 2022-2037\n",
        "'''\n",
        "\n",
        "edad=33\n",
        "cachorrito=0\n",
        "\n",
        "count = 2022 #empezamos en 2022\n",
        "while count <= 2037:\n",
        "    print ('estamos en año ',count, \"tu edad es \", edad , \"la edad del perro es \" , cachorrito)\n",
        "    count += 1 \n",
        "    edad +=1\n",
        "    cachorrito+=7\n"
      ],
      "metadata": {
        "id": "iVENRFQCGXke"
      },
      "execution_count": null,
      "outputs": []
    },
    {
      "cell_type": "code",
      "source": [
        "'''\n",
        "Pide al usuario  un monto de deuda, cuanto es el pago mensual y \n",
        "que el programa imprima como se va reduciendo su deuda mensualmente \n",
        "hasta llegar a cero (quedar liquidada)\n",
        "'''\n",
        "\n",
        "deuda = int(input(\"introduce tu deuda\"))\n",
        "pago_mes=int(input(\"introduce tu pago mensual\"))\n",
        "\n",
        "contador=0\n",
        "\n",
        "while deuda >= 0:\n",
        "    print ('mes ', contador, 'tu deuda es de ', deuda)\n",
        "    deuda -=pago_mes\n",
        "    contador+=1"
      ],
      "metadata": {
        "id": "l9YJy9F8LAPs"
      },
      "execution_count": null,
      "outputs": []
    },
    {
      "cell_type": "code",
      "source": [
        "inversion=int(input(\"cantidad a invertir\"))\n",
        "tasa=float(input(\"tasa de interes\"))\n",
        "\n",
        "capital=inversion + (inversion*tasa)\n",
        "\n",
        "for i in range(10):\n",
        "  print(capital)\n",
        "  capital=capital+(inversion*tasa)\n"
      ],
      "metadata": {
        "id": "f7EfheJLGhFX"
      },
      "execution_count": null,
      "outputs": []
    }
  ]
}