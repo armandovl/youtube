{
  "nbformat": 4,
  "nbformat_minor": 0,
  "metadata": {
    "colab": {
      "name": "diagrama_circular_video",
      "private_outputs": true,
      "provenance": [],
      "authorship_tag": "ABX9TyPUD3WTkf9TiZ+pFkFXB7oR",
      "include_colab_link": true
    },
    "kernelspec": {
      "name": "python3",
      "display_name": "Python 3"
    },
    "language_info": {
      "name": "python"
    }
  },
  "cells": [
    {
      "cell_type": "markdown",
      "metadata": {
        "id": "view-in-github",
        "colab_type": "text"
      },
      "source": [
        "<a href=\"https://colab.research.google.com/github/armandovl/youtube/blob/main/diagrama_circular_video.ipynb\" target=\"_parent\"><img src=\"https://colab.research.google.com/assets/colab-badge.svg\" alt=\"Open In Colab\"/></a>"
      ]
    },
    {
      "cell_type": "code",
      "execution_count": null,
      "metadata": {
        "id": "zQlnr1NhFA4F"
      },
      "outputs": [],
      "source": [
        "import seaborn as sns\n",
        "#importamos el data frame\n",
        "titanic=sns.load_dataset(\"titanic\")"
      ]
    },
    {
      "cell_type": "code",
      "source": [
        "titanic.head(8)"
      ],
      "metadata": {
        "id": "JpdmmcWSGZk3"
      },
      "execution_count": null,
      "outputs": []
    },
    {
      "cell_type": "code",
      "source": [
        "import matplotlib.pyplot as plt"
      ],
      "metadata": {
        "id": "vkoK3fpVK3n1"
      },
      "execution_count": null,
      "outputs": []
    },
    {
      "cell_type": "code",
      "source": [
        "conteo_variable=titanic[\"class\"].value_counts()\n",
        "etiquetas=titanic[\"class\"].unique()\n",
        "colores=[\"#EE6055\",\"#60D394\",\"#AAF683\",\"#FFD97D\",\"#FF9B85\"]\n",
        "extraccion=0,0,0.2\n",
        "\n",
        "fig, ax=plt.subplots(figsize=(8,6))\n",
        "plt.pie(conteo_variable,labels=etiquetas, \n",
        "        autopct=\"%0.2f %%\", \n",
        "        colors=colores,\n",
        "        explode=extraccion,\n",
        "        shadow=True)\n",
        "ax.set_title(\"Porcentaje por clase \\n\", fontsize=15, fontweight=\"bold\")\n",
        "plt.rcParams.update({'font.size': 12, 'font.weight' : 'bold'}) \n",
        "ax.legend()\n",
        "plt.show()"
      ],
      "metadata": {
        "id": "V-RnP3NJK6wy"
      },
      "execution_count": null,
      "outputs": []
    },
    {
      "cell_type": "code",
      "source": [
        "import matplotlib\n",
        "matplotlib.rcParams.update(matplotlib.rcParamsDefault)\n"
      ],
      "metadata": {
        "id": "FFUoVk9mLhor"
      },
      "execution_count": null,
      "outputs": []
    },
    {
      "cell_type": "code",
      "source": [
        "#para dos variables\n",
        "conteo_variable=titanic[\"sex\"].value_counts()\n",
        "etiquetas=titanic[\"sex\"].unique()\n",
        "colores=[\"#EE6055\",\"#60D394\",\"#AAF683\",\"#FFD97D\",\"#FF9B85\"]\n",
        "extraccion=0,0.2\n",
        "\n",
        "fig, ax=plt.subplots(figsize=(8,6))\n",
        "plt.pie(conteo_variable,labels=etiquetas, \n",
        "        autopct=\"%0.2f %%\", \n",
        "        colors=colores,\n",
        "        explode=extraccion,\n",
        "        shadow=True)\n",
        "ax.set_title(\"Porcentaje por clase \\n\", fontsize=15, fontweight=\"bold\")\n",
        "plt.rcParams.update({'font.size': 12, 'font.weight' : 'bold'}) \n",
        "ax.legend()\n",
        "plt.show()"
      ],
      "metadata": {
        "id": "sShxpbczTAus"
      },
      "execution_count": null,
      "outputs": []
    },
    {
      "cell_type": "code",
      "source": [
        "\n",
        "\n",
        "\n",
        "def circular_graf(dataFrame,variable):\n",
        "  \n",
        "  counts = dataFrame[variable].value_counts()\n",
        "  #funcion para agregar porcentaje y valores ansolutos\n",
        "  def autopct_fun(abs_values):\n",
        "      gen = iter(abs_values)\n",
        "      return lambda pct: f\"{pct:.1f}% ({next(gen)})\"\n",
        "\n",
        "  #hacer el gráfico de pastel de count\n",
        "  counts.plot(kind='pie',\n",
        "              fontsize=10, #tamaño fuente\n",
        "              figsize=(15, 7), #tamaño del gráfico\n",
        "              autopct=autopct_fun(counts),\n",
        "              legend = True, #leyenda\n",
        "              #explode=[0.05,0.05],\n",
        "              shadow=False\n",
        "              )\n",
        "  plt.show()"
      ],
      "metadata": {
        "id": "7AFg0mTpTK7Z"
      },
      "execution_count": null,
      "outputs": []
    },
    {
      "cell_type": "code",
      "source": [
        "circular_graf(titanic,\"deck\")"
      ],
      "metadata": {
        "id": "opY3xNFtTyOs"
      },
      "execution_count": null,
      "outputs": []
    }
  ]
}