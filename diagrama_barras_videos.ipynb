{
  "nbformat": 4,
  "nbformat_minor": 0,
  "metadata": {
    "colab": {
      "name": "diagrama_barras_videos",
      "private_outputs": true,
      "provenance": [],
      "authorship_tag": "ABX9TyMFkmTl7qtl9FkS1/YGRTq8",
      "include_colab_link": true
    },
    "kernelspec": {
      "name": "python3",
      "display_name": "Python 3"
    },
    "language_info": {
      "name": "python"
    }
  },
  "cells": [
    {
      "cell_type": "markdown",
      "metadata": {
        "id": "view-in-github",
        "colab_type": "text"
      },
      "source": [
        "<a href=\"https://colab.research.google.com/github/armandovl/youtube/blob/main/diagrama_barras_videos.ipynb\" target=\"_parent\"><img src=\"https://colab.research.google.com/assets/colab-badge.svg\" alt=\"Open In Colab\"/></a>"
      ]
    },
    {
      "cell_type": "code",
      "execution_count": null,
      "metadata": {
        "id": "oXiDb2nDzXBz"
      },
      "outputs": [],
      "source": [
        "## Importar las librerías de cajón\n",
        "import pandas as pd\n",
        "import numpy as np\n",
        "import matplotlib.pyplot as plt\n",
        "import seaborn as sns"
      ]
    },
    {
      "cell_type": "code",
      "source": [
        "#importamos el data frame\n",
        "titanic=sns.load_dataset(\"titanic\")\n",
        "titanic.head(6)"
      ],
      "metadata": {
        "id": "oHDY-rzlz98M"
      },
      "execution_count": null,
      "outputs": []
    },
    {
      "cell_type": "code",
      "source": [
        "a=titanic.embarked.value_counts()\n",
        "print(a)\n",
        "print(a.index)"
      ],
      "metadata": {
        "id": "qcKArH8M0wg2"
      },
      "execution_count": null,
      "outputs": []
    },
    {
      "cell_type": "code",
      "source": [
        "x=a.index\n",
        "y=a\n",
        "plt.bar(x,y,\n",
        "        width= 0.9, align='center',color='purple', edgecolor = 'yellow')\n",
        "\n",
        "# Agregar los valores\n",
        "for i in range(len(x)):\n",
        "    plt.annotate(y[i], (-0.1 + i, y[i]))"
      ],
      "metadata": {
        "id": "bvXo-geI1E9b"
      },
      "execution_count": null,
      "outputs": []
    },
    {
      "cell_type": "code",
      "source": [
        "=#parametros especiales\n",
        "# figsize = (12,7): Ayuda a establecer la altura y el ancho de la parcela. Pero un giro es el orden que se intercambia, que es (ancho, alto) o (y, x).\n",
        "# width= 0.9: Ayuda a establecer el ancho de las barras.\n",
        "# color = ‘cyan’: Ayuda a establecer el color de las barras.\n",
        "# edgecolor = ‘red’: Ayuda a establecer el color del borde de las barras.\n",
        "# annotate = (‘text’, (x, y)): Ayuda a anotar las barras, incluir el texto o la cadena junto con la ubicación deseada como coordenadas xey.\n",
        "# legend(labels = [‘Text’]): Ayuda a configurar una etiqueta para el diagrama de barras.\n",
        "# title(‘Text’): Ayuda a proporcionar un título para el diagrama de barras\n",
        "# xlabel(‘Text’), ylabel(‘Text’): Ayuda a proporcionar el nombre de los ejes xey del gráfico.\n",
        "# savefig(‘Path’): Ayuda a guardar la trama en su máquina local o en cualquier lugar. Puede guardar en diferentes formatos como “ PNG ”, “ JPEG ”, etc."
      ],
      "metadata": {
        "id": "C6c90gEq1WXZ"
      },
      "execution_count": null,
      "outputs": []
    },
    {
      "cell_type": "code",
      "source": [
        "#tablas multidimensionales\n",
        "#tablas de frecuencia cruzadas agrupadas\n",
        "\n",
        "#Las variables tienen que que ser categóricas\n",
        "\n",
        "def tablas_frecuencia(variablefila,listaVariablesColumnas):\n",
        "  \n",
        "  import pandas as pd #importamos la biblioteca de pandas por si acaso no lo hemos hecho\n",
        "  \n",
        "  #creamos la tabla con las columnas que queremos graficar\n",
        "  tab_10=pd.crosstab( \n",
        "        index=variablefila, #variable para las filas\n",
        "        columns=listaVariablesColumnas, #variables para las columnas\n",
        "        margins=True #que ponga los totales como \"All\"            \n",
        "                      )\n",
        "  #cambiar nombres de los totales\n",
        "  tab_10 = tab_10.rename(columns = {\"All\":\"total_filas\"})\n",
        "  tab_10 = tab_10.rename(index = {\"All\":\"total_columnas\"})\n",
        "\n",
        "  frecuencia_absoluta=tab_10 #colocamos nuestra trabla 10 (frecuencias absolutas ) en la variable frecuencia_absoluta\n",
        "\n",
        "\n",
        "  ####################################  frecuencias relativas marginales ############################\n",
        "\n",
        "  tab_11=tab_10/tab_10.loc[\"total_columnas\"]*100\n",
        "  frecuencia_relativa_marginal_columna=tab_11.round(1)\n",
        "\n",
        "  tab_12=tab_10.T/tab_10[\"total_filas\"]*100\n",
        "  frecuencia_relativa_marginal_fila=tab_12.T.round(1)\n",
        "\n",
        "  ########   A ############### B ################################### C #########################\n",
        "  return frecuencia_absoluta,frecuencia_relativa_marginal_columna,frecuencia_relativa_marginal_fila"
      ],
      "metadata": {
        "id": "mVqRAfLB1_78"
      },
      "execution_count": null,
      "outputs": []
    },
    {
      "cell_type": "code",
      "source": [
        "g1,g2,g3=tablas_frecuencia(titanic.survived,[titanic.sex,titanic.pclass])"
      ],
      "metadata": {
        "id": "96wn6NMy2J_p"
      },
      "execution_count": null,
      "outputs": []
    },
    {
      "cell_type": "code",
      "source": [
        "g1"
      ],
      "metadata": {
        "id": "O6dv7h7a2oGm"
      },
      "execution_count": null,
      "outputs": []
    },
    {
      "cell_type": "code",
      "source": [
        "#con pandas.plot https://pandas.pydata.org/pandas-docs/stable/reference/api/pandas.DataFrame.plot.html?highlight=kind\n",
        "g1.plot(kind=\"bar\")"
      ],
      "metadata": {
        "id": "Wlu7PCAi2qM0"
      },
      "execution_count": null,
      "outputs": []
    },
    {
      "cell_type": "code",
      "source": [
        "g1=g1.drop([\"total_columnas\"],axis=0)\n",
        "g1=g1.drop([\"total_filas\"],axis=1)\n",
        "g1"
      ],
      "metadata": {
        "id": "4bGYe5WJ6i-V"
      },
      "execution_count": null,
      "outputs": []
    },
    {
      "cell_type": "code",
      "source": [
        "g1.plot(kind=\"barh\",\n",
        "        title=\"Aquí va un título\",\n",
        "        alpha=0.8,\n",
        "        width=0.7,\n",
        "        figsize=(9,15),\n",
        "        subplots=True,\n",
        "        color=[\"pink\",\"blue\"]); #ejecutamos de nuevo"
      ],
      "metadata": {
        "id": "k3qjmeNu6wqN"
      },
      "execution_count": null,
      "outputs": []
    }
  ]
}