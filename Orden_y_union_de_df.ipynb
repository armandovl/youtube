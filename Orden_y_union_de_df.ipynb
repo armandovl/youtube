{
  "nbformat": 4,
  "nbformat_minor": 0,
  "metadata": {
    "colab": {
      "name": "Orden y union de df",
      "private_outputs": true,
      "provenance": [],
      "authorship_tag": "ABX9TyPuJTCcEwsWW75END8lGcK5",
      "include_colab_link": true
    },
    "kernelspec": {
      "name": "python3",
      "display_name": "Python 3"
    },
    "language_info": {
      "name": "python"
    }
  },
  "cells": [
    {
      "cell_type": "markdown",
      "metadata": {
        "id": "view-in-github",
        "colab_type": "text"
      },
      "source": [
        "<a href=\"https://colab.research.google.com/github/armandovl/youtube/blob/main/Orden_y_union_de_df.ipynb\" target=\"_parent\"><img src=\"https://colab.research.google.com/assets/colab-badge.svg\" alt=\"Open In Colab\"/></a>"
      ]
    },
    {
      "cell_type": "markdown",
      "source": [
        "## Reacomodo de variables"
      ],
      "metadata": {
        "id": "LBh5In-FH7J-"
      }
    },
    {
      "cell_type": "code",
      "execution_count": null,
      "metadata": {
        "id": "VLPWEKnLHM4X"
      },
      "outputs": [],
      "source": [
        "# python 3.x\n",
        "import pandas as pd\n",
        "df = pd.DataFrame({'a':['1','2','3','4'], \n",
        "                   'b': [16,7,6,16],\n",
        "                   'c':[61,57,16,36],\n",
        "                   'd':['12','22','13','44'],\n",
        "                   'e':['Green','Red','Blue','Yellow'],\n",
        "                   'f':[1,11,23,66]})\n",
        "print(df)\n"
      ]
    },
    {
      "cell_type": "code",
      "source": [
        "df = df[['e','c','b','f','d','a']]\n",
        "print('Rearranging ..................')\n",
        "print('..............................')\n",
        "print(df)"
      ],
      "metadata": {
        "id": "EhJqYZjAHxE_"
      },
      "execution_count": null,
      "outputs": []
    },
    {
      "cell_type": "markdown",
      "source": [
        "## columna reindex para un orden determinado en Pandas"
      ],
      "metadata": {
        "id": "n-w-ODAnI0pR"
      }
    },
    {
      "cell_type": "code",
      "source": [
        "# python 3.x\n",
        "import pandas as pd\n",
        "df = pd.DataFrame({'a':['1','2','3','4'], \n",
        "                   'b': [16,7,6,16],\n",
        "                   'c':[61,57,16,36],\n",
        "                   'd':['12','22','13','44'],\n",
        "                   'e':['Green','Red','Blue','Yellow'],\n",
        "                   'f':[1,11,23,66]})\n",
        "print(df)\n"
      ],
      "metadata": {
        "id": "DeBwpZO6JDwe"
      },
      "execution_count": null,
      "outputs": []
    },
    {
      "cell_type": "code",
      "source": [
        "print('Rearranging ..................')\n",
        "print('..............................')\n",
        "df = df.reindex(columns=['a','f','d','b','c','e'])\n",
        "print(df)"
      ],
      "metadata": {
        "id": "YEhW48DdJHrI"
      },
      "execution_count": null,
      "outputs": []
    },
    {
      "cell_type": "markdown",
      "source": [
        "##insert una nueva columna con la ubicación específica en Pandas"
      ],
      "metadata": {
        "id": "mUuR2l4bIn7m"
      }
    },
    {
      "cell_type": "code",
      "source": [
        "# python 3.x\n",
        "import pandas as pd\n",
        "df = pd.DataFrame({'a':['1','2','3','4'], \n",
        "                   'b': [16,7,6,16],\n",
        "                   'c':[61,57,16,36],\n",
        "                   'd':['12','22','13','44'],\n",
        "                   'e':['Green','Red','Blue','Yellow'],\n",
        "                   'f':[1,11,23,66]})\n",
        "print(df)\n"
      ],
      "metadata": {
        "id": "qinlkJZdIcv4"
      },
      "execution_count": null,
      "outputs": []
    },
    {
      "cell_type": "code",
      "source": [
        "print('Inserting ..................')\n",
        "print('..............................')\n",
        "df.insert(0, 'newColMean', df.mean(1))\n",
        "print(df)"
      ],
      "metadata": {
        "id": "aLvWsioCIf9-"
      },
      "execution_count": null,
      "outputs": []
    },
    {
      "cell_type": "code",
      "source": [
        ""
      ],
      "metadata": {
        "id": "jYTsF_qFNUpB"
      },
      "execution_count": null,
      "outputs": []
    },
    {
      "cell_type": "code",
      "source": [
        ""
      ],
      "metadata": {
        "id": "MDioo-PPNU7u"
      },
      "execution_count": null,
      "outputs": []
    },
    {
      "cell_type": "markdown",
      "source": [
        "## algo"
      ],
      "metadata": {
        "id": "SSy2tSDoJlm2"
      }
    }
  ]
}