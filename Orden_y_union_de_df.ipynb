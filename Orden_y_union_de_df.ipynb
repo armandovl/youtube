{
  "nbformat": 4,
  "nbformat_minor": 0,
  "metadata": {
    "colab": {
      "name": "Orden y union de df",
      "private_outputs": true,
      "provenance": [],
      "authorship_tag": "ABX9TyPIY8fTpvbtWLJ5sfrYj7UC",
      "include_colab_link": true
    },
    "kernelspec": {
      "name": "python3",
      "display_name": "Python 3"
    },
    "language_info": {
      "name": "python"
    }
  },
  "cells": [
    {
      "cell_type": "markdown",
      "metadata": {
        "id": "view-in-github",
        "colab_type": "text"
      },
      "source": [
        "<a href=\"https://colab.research.google.com/github/armandovl/youtube/blob/main/Orden_y_union_de_df.ipynb\" target=\"_parent\"><img src=\"https://colab.research.google.com/assets/colab-badge.svg\" alt=\"Open In Colab\"/></a>"
      ]
    },
    {
      "cell_type": "markdown",
      "source": [
        "## Reacomodo de variables"
      ],
      "metadata": {
        "id": "LBh5In-FH7J-"
      }
    },
    {
      "cell_type": "code",
      "execution_count": null,
      "metadata": {
        "id": "VLPWEKnLHM4X"
      },
      "outputs": [],
      "source": [
        "# python 3.x\n",
        "import pandas as pd\n",
        "df = pd.DataFrame({'a':['1','2','3','4'], \n",
        "                   'b': [16,7,6,16],\n",
        "                   'c':[61,57,16,36],\n",
        "                   'd':['12','22','13','44'],\n",
        "                   'e':['Green','Red','Blue','Yellow'],\n",
        "                   'f':[1,11,23,66]})\n",
        "print(df)\n"
      ]
    },
    {
      "cell_type": "code",
      "source": [
        "df = df[['e','c','b','f','d','a']]\n",
        "print('Rearranging ..................')\n",
        "print('..............................')\n",
        "print(df)"
      ],
      "metadata": {
        "id": "EhJqYZjAHxE_"
      },
      "execution_count": null,
      "outputs": []
    },
    {
      "cell_type": "markdown",
      "source": [
        "## columna reindex para un orden determinado en Pandas"
      ],
      "metadata": {
        "id": "n-w-ODAnI0pR"
      }
    },
    {
      "cell_type": "code",
      "source": [
        "# python 3.x\n",
        "import pandas as pd\n",
        "df = pd.DataFrame({'a':['1','2','3','4'], \n",
        "                   'b': [16,7,6,16],\n",
        "                   'c':[61,57,16,36],\n",
        "                   'd':['12','22','13','44'],\n",
        "                   'e':['Green','Red','Blue','Yellow'],\n",
        "                   'f':[1,11,23,66]})\n",
        "print(df)\n"
      ],
      "metadata": {
        "id": "DeBwpZO6JDwe"
      },
      "execution_count": null,
      "outputs": []
    },
    {
      "cell_type": "code",
      "source": [
        "print('Rearranging ..................')\n",
        "print('..............................')\n",
        "df = df.reindex(columns=['a','f','d','b','c','e'])\n",
        "print(df)"
      ],
      "metadata": {
        "id": "YEhW48DdJHrI"
      },
      "execution_count": null,
      "outputs": []
    },
    {
      "cell_type": "markdown",
      "source": [
        "##insert una nueva columna con la ubicación específica en Pandas"
      ],
      "metadata": {
        "id": "mUuR2l4bIn7m"
      }
    },
    {
      "cell_type": "code",
      "source": [
        "# python 3.x\n",
        "import pandas as pd\n",
        "df = pd.DataFrame({'a':['1','2','3','4'], \n",
        "                   'b': [16,7,6,16],\n",
        "                   'c':[61,57,16,36],\n",
        "                   'd':['12','22','13','44'],\n",
        "                   'e':['Green','Red','Blue','Yellow'],\n",
        "                   'f':[1,11,23,66]})\n",
        "print(df)\n"
      ],
      "metadata": {
        "id": "qinlkJZdIcv4"
      },
      "execution_count": null,
      "outputs": []
    },
    {
      "cell_type": "code",
      "source": [
        "print('Inserting ..................')\n",
        "print('..............................')\n",
        "df.insert(0, 'newColMean', df.mean(1))\n",
        "print(df)"
      ],
      "metadata": {
        "id": "aLvWsioCIf9-"
      },
      "execution_count": null,
      "outputs": []
    },
    {
      "cell_type": "code",
      "source": [
        ""
      ],
      "metadata": {
        "id": "jYTsF_qFNUpB"
      },
      "execution_count": null,
      "outputs": []
    },
    {
      "cell_type": "code",
      "source": [
        ""
      ],
      "metadata": {
        "id": "MDioo-PPNU7u"
      },
      "execution_count": null,
      "outputs": []
    },
    {
      "cell_type": "markdown",
      "source": [
        "## Ejemplo dos"
      ],
      "metadata": {
        "id": "SSy2tSDoJlm2"
      }
    },
    {
      "cell_type": "code",
      "source": [
        "# https://www.it-swarm-es.com/es/python/pandas-cruz-unir-sin-columnas-en-comun/822464097/"
      ],
      "metadata": {
        "id": "_5vADcjVROxW"
      },
      "execution_count": null,
      "outputs": []
    },
    {
      "cell_type": "code",
      "source": [
        "import pandas as pd\n",
        "\n",
        "df1 = pd.DataFrame({'fld1': ['x', 'y'],\n",
        "                'fld2': ['a', 'b1']})\n",
        "\n",
        "\n",
        "df2 = pd.DataFrame({'fld3': ['y', 'x', 'y'],\n",
        "                'fld4': ['a', 'b1', 'c2']})\n",
        "\n",
        "print (df1)\n",
        "\n",
        "\n",
        "print (df2)\n",
        "\n",
        "\n",
        "df1['tmp'] = 1\n",
        "df2['tmp'] = 1\n",
        "\n",
        "df = pd.merge(df1, df2, on=['tmp'])"
      ],
      "metadata": {
        "id": "m9ONGhRpQlFY"
      },
      "execution_count": null,
      "outputs": []
    },
    {
      "cell_type": "code",
      "source": [
        "df = df.drop('tmp', axis=1)\n",
        "print (df)"
      ],
      "metadata": {
        "id": "m1AHB7l7Q_q5"
      },
      "execution_count": null,
      "outputs": []
    },
    {
      "cell_type": "markdown",
      "source": [
        "## Ejemplo 3"
      ],
      "metadata": {
        "id": "f24XM65OSgOf"
      }
    },
    {
      "cell_type": "code",
      "source": [
        "#https://runebook.dev/es/docs/pandas/user_guide/merging"
      ],
      "metadata": {
        "id": "tlh9v0DmSiWg"
      },
      "execution_count": null,
      "outputs": []
    },
    {
      "cell_type": "code",
      "source": [
        "import pandas as pd\n",
        "import numpy as np\n",
        "\n",
        "df_1 = pd.DataFrame({\"fruta\": [\"manzana\", \"pera\", \"platano\", \"naranja\", \"aguacate\"],\n",
        "                    \"precio\": [0.20, 0.45, 0.15, 0.12, 0.62]})\n",
        "df_2 = pd.DataFrame({\"stock\": [10, 20, 25, 12, 40]})\n",
        "df_3 = pd.DataFrame({\"ventas_totales\":[3, 5, 2, 3, 6],\n",
        "                     \"ingresos_ventas\": [120, 110, 64,44, 147]})"
      ],
      "metadata": {
        "id": "uq8iPrHKSqNQ"
      },
      "execution_count": null,
      "outputs": []
    },
    {
      "cell_type": "code",
      "source": [
        "pd.concat([df_1, df_2, df_3], axis=1)"
      ],
      "metadata": {
        "id": "OHyFmZqKTZju"
      },
      "execution_count": null,
      "outputs": []
    },
    {
      "cell_type": "code",
      "source": [
        "pd.concat([df_1, df_2, df_3], axis=0)"
      ],
      "metadata": {
        "id": "3ayJXKEaTe1_"
      },
      "execution_count": null,
      "outputs": []
    },
    {
      "cell_type": "markdown",
      "source": [
        "## otro"
      ],
      "metadata": {
        "id": "zIDYA4MJUMox"
      }
    },
    {
      "cell_type": "code",
      "source": [
        "#https://qastack.mx/programming/38256104/differences-between-merge-and-concat-in-pandas"
      ],
      "metadata": {
        "id": "7-rhCNgGUPK5"
      },
      "execution_count": null,
      "outputs": []
    },
    {
      "cell_type": "code",
      "source": [
        "f1 = pd.DataFrame({'Key': ['b', 'b', 'a', 'c', 'a', 'a', 'b'], 'data1': range(7)})\n",
        "\n",
        "print(f1)\n",
        "\n",
        "f2 = pd.DataFrame({'Key': ['a', 'b', 'd'], 'data2': range(3)})\n",
        "\n",
        "print(f2)\n"
      ],
      "metadata": {
        "id": "CCwlsAfMULZo"
      },
      "execution_count": null,
      "outputs": []
    },
    {
      "cell_type": "code",
      "source": [
        "\n",
        "#Merge\n",
        "# The 2 dataframes are merged on the basis of values in column \"Key\" as it is \n",
        "# a common column in 2 dataframes\n",
        "\n",
        "pd.merge(f1, f2)"
      ],
      "metadata": {
        "id": "_xQnwBKcUoYQ"
      },
      "execution_count": null,
      "outputs": []
    },
    {
      "cell_type": "code",
      "source": [
        "#Concat\n",
        "# df2 dataframe is appended at the bottom of df1 \n",
        "\n",
        "pd.concat([f1, f2])\n"
      ],
      "metadata": {
        "id": "C9dmw45PVApq"
      },
      "execution_count": null,
      "outputs": []
    }
  ]
}